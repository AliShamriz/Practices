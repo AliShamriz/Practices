{
 "cells": [
  {
   "cell_type": "code",
   "execution_count": 1,
   "id": "fd55767b",
   "metadata": {},
   "outputs": [],
   "source": [
    "from datetime import datetime\n"
   ]
  },
  {
   "cell_type": "code",
   "execution_count": 2,
   "id": "7b4ad3a2",
   "metadata": {},
   "outputs": [],
   "source": [
    "import time\n",
    "import random"
   ]
  },
  {
   "cell_type": "code",
   "execution_count": null,
   "id": "d1a7f723",
   "metadata": {},
   "outputs": [
    {
     "name": "stdout",
     "output_type": "stream",
     "text": [
      "This minute seems a little odd\n",
      "This minute seems a little odd\n",
      "This minute seems a little odd\n",
      "This minute seems a little odd\n",
      "This minute seems a little odd\n"
     ]
    }
   ],
   "source": [
    "odds = [ 1, 3, 5, 7, 9, 11, 13, 15, 17, 19,\n",
    "         21, 23, 25, 27, 29, 31, 33, 35, 37, 39,\n",
    "         41, 43, 45, 47, 49, 51, 53, 55, 57, 59]\n",
    "for i in range (5):\n",
    "    right_this_minute = datetime.today().minute\n",
    "    if right_this_minute in odds:\n",
    "        print('This minute seems a little odd')\n",
    "    else:\n",
    "        print(\"Not an odd minute\")\n",
    "    wait_time = random.randint(1,60)\n",
    "    time.sleep(wait_time)"
   ]
  }
 ],
 "metadata": {
  "kernelspec": {
   "display_name": "Python 3",
   "language": "python",
   "name": "python3"
  },
  "language_info": {
   "codemirror_mode": {
    "name": "ipython",
    "version": 3
   },
   "file_extension": ".py",
   "mimetype": "text/x-python",
   "name": "python",
   "nbconvert_exporter": "python",
   "pygments_lexer": "ipython3",
   "version": "3.13.1"
  }
 },
 "nbformat": 4,
 "nbformat_minor": 5
}
