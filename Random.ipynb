{
 "cells": [
  {
   "cell_type": "code",
   "execution_count": 106,
   "id": "5803b6db",
   "metadata": {},
   "outputs": [
    {
     "name": "stdout",
     "output_type": "stream",
     "text": [
      "This is a string INSERTED\n"
     ]
    }
   ],
   "source": [
    "my_name = \"jose\"\n",
    "print('This is a string {}'.format('INSERTED'))"
   ]
  },
  {
   "cell_type": "code",
   "execution_count": 107,
   "id": "d2f46060",
   "metadata": {},
   "outputs": [
    {
     "name": "stdout",
     "output_type": "stream",
     "text": [
      "The quick brown fox\n"
     ]
    }
   ],
   "source": [
    "print ('The {2} {1} {0}'.format('fox','brown','quick'))"
   ]
  },
  {
   "cell_type": "code",
   "execution_count": 108,
   "id": "48362f9a",
   "metadata": {},
   "outputs": [
    {
     "name": "stdout",
     "output_type": "stream",
     "text": [
      "The quick brown fox\n"
     ]
    }
   ],
   "source": [
    "print('The {q} {b} {f}'.format(f='fox', b='brown', q='quick'))"
   ]
  },
  {
   "cell_type": "code",
   "execution_count": 109,
   "id": "454e595c",
   "metadata": {},
   "outputs": [],
   "source": [
    "result = 100/700"
   ]
  },
  {
   "cell_type": "code",
   "execution_count": 110,
   "id": "aff2c501",
   "metadata": {},
   "outputs": [],
   "source": [
    "result = 104.1234"
   ]
  },
  {
   "cell_type": "code",
   "execution_count": 111,
   "id": "4f838d75",
   "metadata": {},
   "outputs": [
    {
     "name": "stdout",
     "output_type": "stream",
     "text": [
      "The result was 104.12\n"
     ]
    }
   ],
   "source": [
    "print('The result was {r:1.2f}'.format(r=result))"
   ]
  },
  {
   "cell_type": "code",
   "execution_count": 112,
   "id": "fd3bcae5",
   "metadata": {},
   "outputs": [],
   "source": [
    "name = \"Jose\""
   ]
  },
  {
   "cell_type": "code",
   "execution_count": 113,
   "id": "3f34f196",
   "metadata": {},
   "outputs": [
    {
     "name": "stdout",
     "output_type": "stream",
     "text": [
      "HelloT his name is Jose\n"
     ]
    }
   ],
   "source": [
    "print(f'HelloT his name is {name}')"
   ]
  },
  {
   "cell_type": "code",
   "execution_count": 114,
   "id": "a451c66d",
   "metadata": {},
   "outputs": [],
   "source": [
    "name = \"Sam\"\n",
    "age = 3"
   ]
  },
  {
   "cell_type": "code",
   "execution_count": 115,
   "id": "32004d68",
   "metadata": {},
   "outputs": [
    {
     "name": "stdout",
     "output_type": "stream",
     "text": [
      "Sam is 3 years old.\n"
     ]
    }
   ],
   "source": [
    "print(f'{name} is {age} years old.')"
   ]
  },
  {
   "cell_type": "code",
   "execution_count": 116,
   "id": "2f0f8fde",
   "metadata": {},
   "outputs": [],
   "source": [
    "my_list = [1,2,3]"
   ]
  },
  {
   "cell_type": "code",
   "execution_count": 117,
   "id": "4a9a0047",
   "metadata": {},
   "outputs": [],
   "source": [
    "my_list = ['STRING' ,100,23.2]"
   ]
  },
  {
   "cell_type": "code",
   "execution_count": 118,
   "id": "7b514a0e",
   "metadata": {},
   "outputs": [
    {
     "data": {
      "text/plain": [
       "3"
      ]
     },
     "execution_count": 118,
     "metadata": {},
     "output_type": "execute_result"
    }
   ],
   "source": [
    "len(my_list)"
   ]
  },
  {
   "cell_type": "code",
   "execution_count": 119,
   "id": "311e8cb9",
   "metadata": {},
   "outputs": [],
   "source": [
    "mylist = ['one','two','three']"
   ]
  },
  {
   "cell_type": "code",
   "execution_count": 120,
   "id": "005b3d42",
   "metadata": {},
   "outputs": [
    {
     "data": {
      "text/plain": [
       "'one'"
      ]
     },
     "execution_count": 120,
     "metadata": {},
     "output_type": "execute_result"
    }
   ],
   "source": [
    "mylist[0]"
   ]
  },
  {
   "cell_type": "code",
   "execution_count": 121,
   "id": "f30b9d3d",
   "metadata": {},
   "outputs": [
    {
     "data": {
      "text/plain": [
       "['two', 'three']"
      ]
     },
     "execution_count": 121,
     "metadata": {},
     "output_type": "execute_result"
    }
   ],
   "source": [
    "mylist[1:]"
   ]
  },
  {
   "cell_type": "code",
   "execution_count": 122,
   "id": "a0effba0",
   "metadata": {},
   "outputs": [],
   "source": [
    "another_list = ['four','five']"
   ]
  },
  {
   "cell_type": "code",
   "execution_count": 123,
   "id": "06fdf61a",
   "metadata": {},
   "outputs": [],
   "source": [
    "new_list = another_list + mylist"
   ]
  },
  {
   "cell_type": "code",
   "execution_count": 124,
   "id": "5e6fec6b",
   "metadata": {},
   "outputs": [
    {
     "data": {
      "text/plain": [
       "['four', 'five', 'one', 'two', 'three']"
      ]
     },
     "execution_count": 124,
     "metadata": {},
     "output_type": "execute_result"
    }
   ],
   "source": [
    "new_list"
   ]
  },
  {
   "cell_type": "code",
   "execution_count": 125,
   "id": "7833cce2",
   "metadata": {},
   "outputs": [],
   "source": [
    "new_list[0] = 'One All Caps'"
   ]
  },
  {
   "cell_type": "code",
   "execution_count": 126,
   "id": "d75a24b9",
   "metadata": {},
   "outputs": [
    {
     "data": {
      "text/plain": [
       "['One All Caps', 'five', 'one', 'two', 'three']"
      ]
     },
     "execution_count": 126,
     "metadata": {},
     "output_type": "execute_result"
    }
   ],
   "source": [
    "new_list"
   ]
  },
  {
   "cell_type": "code",
   "execution_count": 127,
   "id": "eba960b1",
   "metadata": {},
   "outputs": [],
   "source": [
    "new_list.append('Six')"
   ]
  },
  {
   "cell_type": "code",
   "execution_count": 128,
   "id": "93b897e7",
   "metadata": {},
   "outputs": [
    {
     "data": {
      "text/plain": [
       "['One All Caps', 'five', 'one', 'two', 'three', 'Six']"
      ]
     },
     "execution_count": 128,
     "metadata": {},
     "output_type": "execute_result"
    }
   ],
   "source": [
    "new_list"
   ]
  },
  {
   "cell_type": "code",
   "execution_count": 129,
   "id": "892181b8",
   "metadata": {},
   "outputs": [],
   "source": [
    "new_list.append('seven')"
   ]
  },
  {
   "cell_type": "code",
   "execution_count": 130,
   "id": "bcb14ec5",
   "metadata": {},
   "outputs": [
    {
     "data": {
      "text/plain": [
       "['One All Caps', 'five', 'one', 'two', 'three', 'Six', 'seven']"
      ]
     },
     "execution_count": 130,
     "metadata": {},
     "output_type": "execute_result"
    }
   ],
   "source": [
    "new_list"
   ]
  },
  {
   "cell_type": "code",
   "execution_count": 131,
   "id": "f9f211dc",
   "metadata": {},
   "outputs": [
    {
     "data": {
      "text/plain": [
       "'seven'"
      ]
     },
     "execution_count": 131,
     "metadata": {},
     "output_type": "execute_result"
    }
   ],
   "source": [
    "new_list.pop()"
   ]
  },
  {
   "cell_type": "code",
   "execution_count": 132,
   "id": "602aa389",
   "metadata": {},
   "outputs": [],
   "source": [
    "popped_item = new_list.pop()"
   ]
  },
  {
   "cell_type": "code",
   "execution_count": 133,
   "id": "8b7922ec",
   "metadata": {},
   "outputs": [
    {
     "data": {
      "text/plain": [
       "'Six'"
      ]
     },
     "execution_count": 133,
     "metadata": {},
     "output_type": "execute_result"
    }
   ],
   "source": [
    "popped_item"
   ]
  },
  {
   "cell_type": "code",
   "execution_count": 134,
   "id": "170d604e",
   "metadata": {},
   "outputs": [
    {
     "data": {
      "text/plain": [
       "['One All Caps', 'five', 'one', 'two', 'three']"
      ]
     },
     "execution_count": 134,
     "metadata": {},
     "output_type": "execute_result"
    }
   ],
   "source": [
    "new_list"
   ]
  },
  {
   "cell_type": "code",
   "execution_count": 135,
   "id": "0139f615",
   "metadata": {},
   "outputs": [
    {
     "data": {
      "text/plain": [
       "'three'"
      ]
     },
     "execution_count": 135,
     "metadata": {},
     "output_type": "execute_result"
    }
   ],
   "source": [
    "new_list.pop(-1)"
   ]
  },
  {
   "cell_type": "code",
   "execution_count": 136,
   "id": "f4227a7e",
   "metadata": {},
   "outputs": [
    {
     "data": {
      "text/plain": [
       "['One All Caps', 'five', 'one', 'two']"
      ]
     },
     "execution_count": 136,
     "metadata": {},
     "output_type": "execute_result"
    }
   ],
   "source": [
    "new_list"
   ]
  },
  {
   "cell_type": "code",
   "execution_count": 137,
   "id": "5874025c",
   "metadata": {},
   "outputs": [],
   "source": [
    "new_list = ['a','e','x','b','c']\n",
    "num_list = [4,1,8,3]"
   ]
  },
  {
   "cell_type": "code",
   "execution_count": 138,
   "id": "5fe54625",
   "metadata": {},
   "outputs": [],
   "source": [
    "new_list.sort()"
   ]
  },
  {
   "cell_type": "code",
   "execution_count": 139,
   "id": "1e79e8a7",
   "metadata": {},
   "outputs": [
    {
     "data": {
      "text/plain": [
       "['a', 'b', 'c', 'e', 'x']"
      ]
     },
     "execution_count": 139,
     "metadata": {},
     "output_type": "execute_result"
    }
   ],
   "source": [
    "new_list"
   ]
  },
  {
   "cell_type": "code",
   "execution_count": 140,
   "id": "072ee98a",
   "metadata": {},
   "outputs": [],
   "source": [
    "my_sorted_list = new_list.sort()"
   ]
  },
  {
   "cell_type": "code",
   "execution_count": 141,
   "id": "41a8f901",
   "metadata": {},
   "outputs": [
    {
     "data": {
      "text/plain": [
       "NoneType"
      ]
     },
     "execution_count": 141,
     "metadata": {},
     "output_type": "execute_result"
    }
   ],
   "source": [
    "type(my_sorted_list)"
   ]
  },
  {
   "cell_type": "code",
   "execution_count": 142,
   "id": "34e54ecf",
   "metadata": {},
   "outputs": [],
   "source": [
    "new_list.sort()\n",
    "my_sorted_list = new_list"
   ]
  },
  {
   "cell_type": "code",
   "execution_count": 143,
   "id": "2ebe6b39",
   "metadata": {},
   "outputs": [
    {
     "data": {
      "text/plain": [
       "['a', 'b', 'c', 'e', 'x']"
      ]
     },
     "execution_count": 143,
     "metadata": {},
     "output_type": "execute_result"
    }
   ],
   "source": [
    "my_sorted_list"
   ]
  },
  {
   "cell_type": "code",
   "execution_count": 144,
   "id": "a1830e4d",
   "metadata": {},
   "outputs": [
    {
     "data": {
      "text/plain": [
       "[4, 1, 8, 3]"
      ]
     },
     "execution_count": 144,
     "metadata": {},
     "output_type": "execute_result"
    }
   ],
   "source": [
    "num_list"
   ]
  },
  {
   "cell_type": "code",
   "execution_count": 145,
   "id": "79689ed3",
   "metadata": {},
   "outputs": [],
   "source": [
    "num_list.sort()"
   ]
  },
  {
   "cell_type": "code",
   "execution_count": 146,
   "id": "1a300fd8",
   "metadata": {},
   "outputs": [
    {
     "data": {
      "text/plain": [
       "[1, 3, 4, 8]"
      ]
     },
     "execution_count": 146,
     "metadata": {},
     "output_type": "execute_result"
    }
   ],
   "source": [
    "num_list"
   ]
  },
  {
   "cell_type": "code",
   "execution_count": 147,
   "id": "a3121e50",
   "metadata": {},
   "outputs": [],
   "source": [
    "num_list.reverse()"
   ]
  },
  {
   "cell_type": "code",
   "execution_count": 148,
   "id": "58479e21",
   "metadata": {},
   "outputs": [
    {
     "data": {
      "text/plain": [
       "[8, 4, 3, 1]"
      ]
     },
     "execution_count": 148,
     "metadata": {},
     "output_type": "execute_result"
    }
   ],
   "source": [
    "num_list"
   ]
  },
  {
   "cell_type": "code",
   "execution_count": 149,
   "id": "f61b9f58",
   "metadata": {},
   "outputs": [],
   "source": [
    "num_list.sort()"
   ]
  },
  {
   "cell_type": "code",
   "execution_count": 150,
   "id": "c69ad7d8",
   "metadata": {},
   "outputs": [
    {
     "data": {
      "text/plain": [
       "[1, 3, 4, 8]"
      ]
     },
     "execution_count": 150,
     "metadata": {},
     "output_type": "execute_result"
    }
   ],
   "source": [
    "num_list"
   ]
  },
  {
   "cell_type": "code",
   "execution_count": 151,
   "id": "b34e4dc2",
   "metadata": {},
   "outputs": [
    {
     "name": "stdout",
     "output_type": "stream",
     "text": [
      "Overwriting myfile.txt\n"
     ]
    }
   ],
   "source": [
    "%%writefile myfile.txt\n",
    "Hello this is a text file\n",
    "this is the second line\n",
    "this is the third line"
   ]
  },
  {
   "cell_type": "code",
   "execution_count": 152,
   "id": "b2093493",
   "metadata": {},
   "outputs": [],
   "source": [
    "myfile = open ('myfile.txt')"
   ]
  },
  {
   "cell_type": "code",
   "execution_count": 153,
   "id": "0cc0e4ae",
   "metadata": {},
   "outputs": [],
   "source": [
    "# myfile = open ('whoops_wrong.txt')"
   ]
  },
  {
   "cell_type": "code",
   "execution_count": 154,
   "id": "6697a75d",
   "metadata": {},
   "outputs": [],
   "source": [
    "myfile = open('myfile.txt')"
   ]
  },
  {
   "cell_type": "code",
   "execution_count": 155,
   "id": "4bd3124a",
   "metadata": {},
   "outputs": [
    {
     "data": {
      "text/plain": [
       "'Hello this is a text file\\nthis is the second line\\nthis is the third line\\n'"
      ]
     },
     "execution_count": 155,
     "metadata": {},
     "output_type": "execute_result"
    }
   ],
   "source": [
    "myfile.read()"
   ]
  },
  {
   "cell_type": "code",
   "execution_count": 156,
   "id": "4bd66fda",
   "metadata": {},
   "outputs": [
    {
     "data": {
      "text/plain": [
       "''"
      ]
     },
     "execution_count": 156,
     "metadata": {},
     "output_type": "execute_result"
    }
   ],
   "source": [
    "myfile.read()"
   ]
  },
  {
   "cell_type": "code",
   "execution_count": 157,
   "id": "8dc4a11d",
   "metadata": {},
   "outputs": [
    {
     "data": {
      "text/plain": [
       "0"
      ]
     },
     "execution_count": 157,
     "metadata": {},
     "output_type": "execute_result"
    }
   ],
   "source": [
    "myfile.seek(0)"
   ]
  },
  {
   "cell_type": "code",
   "execution_count": 158,
   "id": "a5983952",
   "metadata": {},
   "outputs": [
    {
     "data": {
      "text/plain": [
       "['Hello this is a text file\\n',\n",
       " 'this is the second line\\n',\n",
       " 'this is the third line\\n']"
      ]
     },
     "execution_count": 158,
     "metadata": {},
     "output_type": "execute_result"
    }
   ],
   "source": [
    "myfile.readlines()"
   ]
  },
  {
   "cell_type": "code",
   "execution_count": 159,
   "id": "091e80b8",
   "metadata": {},
   "outputs": [],
   "source": [
    "myfile.close()"
   ]
  },
  {
   "cell_type": "code",
   "execution_count": 160,
   "id": "bae9ea84",
   "metadata": {},
   "outputs": [],
   "source": [
    "with open('myfile.txt') as my_new_file:\n",
    "    contents = my_new_file.read()"
   ]
  },
  {
   "cell_type": "code",
   "execution_count": 161,
   "id": "5f76cc14",
   "metadata": {},
   "outputs": [
    {
     "data": {
      "text/plain": [
       "'Hello this is a text file\\nthis is the second line\\nthis is the third line\\n'"
      ]
     },
     "execution_count": 161,
     "metadata": {},
     "output_type": "execute_result"
    }
   ],
   "source": [
    "contents"
   ]
  },
  {
   "cell_type": "markdown",
   "id": "091bd6c5",
   "metadata": {},
   "source": [
    "mode = 'r' is read only\n",
    "\n",
    "mode ='w' is write only (will overwrite file or create new)\n",
    "\n",
    "mode = 'a' is append only (will add on to file)\n",
    "\n",
    "mode = 'r+' is reading and writing\n",
    "\n",
    "mode = 'w+' is writing and reading (overwrites existing files or creates a new file! )"
   ]
  },
  {
   "cell_type": "code",
   "execution_count": 166,
   "id": "473daafd",
   "metadata": {},
   "outputs": [],
   "source": [
    "with open ('myfile.txt', mode = 'r+') as myfile:\n",
    "    contents = myfile.read()"
   ]
  },
  {
   "cell_type": "code",
   "execution_count": 181,
   "id": "a5398384",
   "metadata": {},
   "outputs": [
    {
     "name": "stdout",
     "output_type": "stream",
     "text": [
      "Overwriting my_new_file.txt\n"
     ]
    }
   ],
   "source": [
    "%%writefile my_new_file.txt\n",
    "ONE ON FIRST\n",
    "TWO ON SECOND\n",
    "THREE ON THIRD"
   ]
  },
  {
   "cell_type": "code",
   "execution_count": 182,
   "id": "6e8270aa",
   "metadata": {},
   "outputs": [
    {
     "name": "stdout",
     "output_type": "stream",
     "text": [
      "ONE ON FIRST\n",
      "TWO ON SECOND\n",
      "THREE ON THIRD\n",
      "\n"
     ]
    }
   ],
   "source": [
    "with open('my_new_file.txt',mode='r') as f :\n",
    "    print(f.read())"
   ]
  },
  {
   "cell_type": "code",
   "execution_count": 185,
   "id": "25acf56a",
   "metadata": {},
   "outputs": [
    {
     "name": "stdout",
     "output_type": "stream",
     "text": [
      "ONE ON FIRST\n",
      "TWO ON SECOND\n",
      "THREE ON THIRD\n",
      "\n",
      "FOUR ON FOURTH\n"
     ]
    }
   ],
   "source": [
    "with open ('my_new_file.txt',mode='r') as f:\n",
    "    print(f.read())"
   ]
  },
  {
   "cell_type": "code",
   "execution_count": 184,
   "id": "006351f6",
   "metadata": {},
   "outputs": [],
   "source": [
    "with open ('my_new_file.txt', mode = 'a') as f:\n",
    "    f.write ('\\nFOUR ON FOURTH')"
   ]
  },
  {
   "cell_type": "code",
   "execution_count": 186,
   "id": "159e157c",
   "metadata": {},
   "outputs": [
    {
     "name": "stdout",
     "output_type": "stream",
     "text": [
      "ONE ON FIRST\n",
      "TWO ON SECOND\n",
      "THREE ON THIRD\n",
      "\n",
      "FOUR ON FOURTH\n"
     ]
    }
   ],
   "source": [
    "with open ('my_new_file.txt',mode='r') as f:\n",
    "    print(f.read())"
   ]
  },
  {
   "cell_type": "code",
   "execution_count": null,
   "id": "af78530b",
   "metadata": {},
   "outputs": [],
   "source": []
  }
 ],
 "metadata": {
  "kernelspec": {
   "display_name": "Python 3",
   "language": "python",
   "name": "python3"
  },
  "language_info": {
   "codemirror_mode": {
    "name": "ipython",
    "version": 3
   },
   "file_extension": ".py",
   "mimetype": "text/x-python",
   "name": "python",
   "nbconvert_exporter": "python",
   "pygments_lexer": "ipython3",
   "version": "3.13.1"
  }
 },
 "nbformat": 4,
 "nbformat_minor": 5
}
